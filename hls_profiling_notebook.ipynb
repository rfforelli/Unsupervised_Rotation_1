{
 "cells": [
  {
   "cell_type": "code",
   "execution_count": null,
   "id": "e17c30b1",
   "metadata": {
    "scrolled": true
   },
   "outputs": [],
   "source": [
    "import numpy as np\n",
    "import h5py\n",
    "import os\n",
    "from random import shuffle\n",
    "import tensorflow as tf\n",
    "physical_devices = tf.config.list_physical_devices('GPU')\n",
    "tf.config.experimental.set_memory_growth(physical_devices[0], enable=True)\n",
    "import matplotlib.pyplot as plt\n",
    "import argparse\n",
    "from distilled_model import *\n",
    "#, create_quantized_distilled_model, create_extra_small_quantized_distilled_model\n",
    "from sklearn.model_selection import train_test_split\n",
    "from sklearn.preprocessing import StandardScaler\n",
    "from tensorflow.keras.callbacks import EarlyStopping, ReduceLROnPlateau\n",
    "import yaml\n",
    "import math\n",
    "import tqdm as notebook_tqdm\n",
    "import hls4ml"
   ]
  },
  {
   "cell_type": "code",
   "execution_count": null,
   "id": "546605d7",
   "metadata": {
    "scrolled": true
   },
   "outputs": [],
   "source": [
    "os.environ['CUDA_VISIBLE_DEVICES'] = '0'"
   ]
  },
  {
   "cell_type": "code",
   "execution_count": null,
   "id": "82114a36",
   "metadata": {
    "scrolled": true
   },
   "outputs": [],
   "source": [
    "img = np.load('./02_scan_x256_y256_raw.npy')"
   ]
  },
  {
   "cell_type": "code",
   "execution_count": null,
   "id": "ef8afbbe",
   "metadata": {
    "scrolled": true
   },
   "outputs": [],
   "source": [
    "img.shape"
   ]
  },
  {
   "cell_type": "code",
   "execution_count": null,
   "id": "e95ef02c",
   "metadata": {
    "scrolled": true
   },
   "outputs": [],
   "source": [
    "img = np.transpose(img,(2,3,0,1)) \n",
    "data_r = np.copy(img)\n",
    "data_r[data_r>1e3]=1e3\n",
    "min_ = np.min(data_r) \n",
    "max_ = np.max(data_r) \n",
    "data_r = 1.0*(data_r-min_)/(max_-min_)\n",
    "data_r = data_r.reshape(-1,1,124,124)\n",
    "data_r_cut = data_r[:,:,2:122,2:122] \n",
    "data_r_cut = data_r_cut.reshape(256,256,120,120) \n",
    "data_r_cut = np.rot90(data_r_cut)  \n",
    "X = data_r_cut.reshape(-1, 120,120)"
   ]
  },
  {
   "cell_type": "code",
   "execution_count": null,
   "id": "6b1aa26a",
   "metadata": {
    "scrolled": true
   },
   "outputs": [],
   "source": [
    "X.shape"
   ]
  },
  {
   "cell_type": "code",
   "execution_count": null,
   "id": "f9a234bd",
   "metadata": {
    "scrolled": true
   },
   "outputs": [],
   "source": [
    "# generate outputs/targets\n",
    "dataset_h5 = h5py.File('./unbinned_results.h5','r+')\n",
    "rots = np.array(dataset_h5['rotation'])\n",
    "scal = np.array(dataset_h5['scale'])\n",
    "y = np.concatenate((rots, scal), axis=1)"
   ]
  },
  {
   "cell_type": "code",
   "execution_count": null,
   "id": "4db74e7c",
   "metadata": {
    "scrolled": true
   },
   "outputs": [],
   "source": [
    "y.shape\n",
    "print(y[0])"
   ]
  },
  {
   "cell_type": "code",
   "execution_count": null,
   "id": "12effea9",
   "metadata": {
    "scrolled": true
   },
   "outputs": [],
   "source": [
    "#y = np.load('unbinned_results.npy')\n",
    "sc = StandardScaler()\n",
    "y_scal = sc.fit_transform(y)"
   ]
  },
  {
   "cell_type": "code",
   "execution_count": null,
   "id": "f2345fd3",
   "metadata": {
    "scrolled": true
   },
   "outputs": [],
   "source": [
    "y_scal.shape"
   ]
  },
  {
   "cell_type": "code",
   "execution_count": null,
   "id": "540e0f22",
   "metadata": {
    "scrolled": true
   },
   "outputs": [],
   "source": [
    "precision = 12\n",
    "MODEL = create_mlp_avg_pool(precision)\n",
    "optimizer = 'adam'\n",
    "loss = 'mse'\n",
    "\n",
    "stopping = EarlyStopping(monitor='val_loss',\n",
    "                             patience = 10)\n",
    "reduce_lr = ReduceLROnPlateau(monitor='val_loss', factor=0.5, patience=10,\n",
    "                                  mode='min', verbose=1, min_delta=0.001,\n",
    "                                  cooldown=4, min_lr=1e-5)\n",
    "callbacks=[\n",
    "        stopping,\n",
    "        reduce_lr,\n",
    "    ]"
   ]
  },
  {
   "cell_type": "code",
   "execution_count": null,
   "id": "594bc7cf",
   "metadata": {
    "scrolled": true
   },
   "outputs": [],
   "source": [
    "MODEL.compile(optimizer=optimizer, loss=loss,)"
   ]
  },
  {
   "cell_type": "code",
   "execution_count": null,
   "id": "816e6888",
   "metadata": {
    "scrolled": true
   },
   "outputs": [],
   "source": [
    "MODEL.summary()"
   ]
  },
  {
   "cell_type": "code",
   "execution_count": null,
   "id": "1010fbc7",
   "metadata": {
    "scrolled": true
   },
   "outputs": [],
   "source": [
    "# history = MODEL.fit(X,y_scal,\n",
    "#                 epochs=15,\n",
    "#                 batch_size = 32,\n",
    "#                 shuffle=True,\n",
    "#                 validation_split = 0.2,)"
   ]
  },
  {
   "cell_type": "code",
   "execution_count": null,
   "id": "38952868",
   "metadata": {
    "scrolled": true
   },
   "outputs": [],
   "source": [
    "# history = MODEL.fit(X,y_scal,\n",
    "#                 epochs=100,\n",
    "#                 batch_size = 32,\n",
    "#                 shuffle=True,\n",
    "#                 validation_split = 0.2,\n",
    "#                 callbacks=callbacks)"
   ]
  },
  {
   "cell_type": "code",
   "execution_count": null,
   "id": "fb2cae8c",
   "metadata": {
    "scrolled": true
   },
   "outputs": [],
   "source": [
    "# MODEL.save_weights(\"./model_weights_sigmoid.h5\")"
   ]
  },
  {
   "cell_type": "code",
   "execution_count": null,
   "id": "92dabcdf",
   "metadata": {
    "scrolled": true
   },
   "outputs": [],
   "source": [
    "MODEL.load_weights(\"./model_weights.h5\")"
   ]
  },
  {
   "cell_type": "code",
   "execution_count": null,
   "id": "b4465eb7",
   "metadata": {
    "scrolled": true
   },
   "outputs": [],
   "source": [
    "os.system('mkdir -p ./keras_figures')\n",
    "os.system('mkdir -p ./hls_figures')"
   ]
  },
  {
   "cell_type": "code",
   "execution_count": null,
   "id": "165641d4",
   "metadata": {
    "scrolled": true
   },
   "outputs": [],
   "source": [
    "MODEL.save('./model.h5')"
   ]
  },
  {
   "cell_type": "code",
   "execution_count": null,
   "id": "af7bf321",
   "metadata": {
    "scrolled": true
   },
   "outputs": [],
   "source": [
    "try:\n",
    "    # plot history\n",
    "    plt.plot(history.history['loss'])\n",
    "    plt.plot(history.history['val_loss'])\n",
    "    plt.title('model accuracy')\n",
    "    plt.ylabel('loss')\n",
    "    plt.xlabel('epoch')\n",
    "    plt.legend(['training_loss', 'validation_loss'], loc='upper left')\n",
    "    plt.savefig('./keras_figures/model.png')\n",
    "except:\n",
    "    print(\"Unable to save training history figure\")\n",
    "    \n",
    "    "
   ]
  },
  {
   "cell_type": "markdown",
   "id": "750a1713",
   "metadata": {},
   "source": [
    "## Convert and post-processing"
   ]
  },
  {
   "cell_type": "code",
   "execution_count": null,
   "id": "bfcc3bbc",
   "metadata": {
    "scrolled": true
   },
   "outputs": [],
   "source": [
    "import os\n",
    "\n",
    "#os.environ['CUDA_VISIBLE_DEVICES'] = '0'\n",
    "\n",
    "from qkeras.utils import _add_supported_quantized_objects\n",
    "import argparse\n",
    "import yaml"
   ]
  },
  {
   "cell_type": "code",
   "execution_count": null,
   "id": "38836161",
   "metadata": {
    "scrolled": true
   },
   "outputs": [],
   "source": [
    "#same as before\n",
    "img = np.load('./02_scan_x256_y256_raw.npy')\n",
    "img = np.transpose(img,(2,3,0,1))\n",
    "data_r = np.copy(img)\n",
    "data_r[data_r>1e3]=1e3\n",
    "min_ = np.min(data_r)\n",
    "max_ = np.max(data_r)\n",
    "\n",
    "data_r = 1.0*(data_r-min_)/(max_-min_)\n",
    "\n",
    "data_r = data_r.reshape(-1,1,124,124)\n",
    "data_r_cut = data_r[:,:,2:122,2:122]\n",
    "data_r_cut = data_r_cut.reshape(256,256,120,120)\n",
    "X = data_r_cut.reshape(-1, 120,120)"
   ]
  },
  {
   "cell_type": "code",
   "execution_count": null,
   "id": "66264dd4",
   "metadata": {
    "scrolled": true
   },
   "outputs": [],
   "source": [
    "print(X.shape)"
   ]
  },
  {
   "cell_type": "code",
   "execution_count": null,
   "id": "2a06cb30",
   "metadata": {
    "scrolled": true
   },
   "outputs": [],
   "source": [
    "# generate outputs/targets\n",
    "dataset_h5 = h5py.File('./unbinned_results.h5','r+')\n",
    "rots = np.array(dataset_h5['rotation'])\n",
    "scal = np.array(dataset_h5['scale'])\n",
    "y = np.concatenate((rots, scal), axis=1)\n",
    "sc = StandardScaler()\n",
    "_ = sc.fit(y)\n",
    "base_8 = np.load('./base_8.npy', allow_pickle=1)"
   ]
  },
  {
   "cell_type": "code",
   "execution_count": null,
   "id": "ede5f080",
   "metadata": {
    "scrolled": true
   },
   "outputs": [],
   "source": [
    "predictions = MODEL.predict(np.ascontiguousarray(X))\n",
    "predictions = sc.inverse_transform(predictions)"
   ]
  },
  {
   "cell_type": "code",
   "execution_count": null,
   "id": "b268d48d",
   "metadata": {
    "scrolled": true
   },
   "outputs": [],
   "source": [
    "predictions.shape"
   ]
  },
  {
   "cell_type": "code",
   "execution_count": null,
   "id": "111a21f3",
   "metadata": {
    "scrolled": true
   },
   "outputs": [],
   "source": [
    "print('keras pred: ', predictions[1000])\n",
    "print('actual:     ', y[1000])"
   ]
  },
  {
   "cell_type": "code",
   "execution_count": null,
   "id": "0c0f10c0",
   "metadata": {
    "scrolled": true
   },
   "outputs": [],
   "source": [
    "rotation_, scale_ = predictions[:, 0:2], predictions[:, 2:]\n",
    "\n",
    "mse = np.mean((y - predictions)**2)\n",
    "print('model MSE on full dataset: ', mse)\n",
    "\n",
    "#base=2,loss=0.024\n",
    "j=0\n",
    "list_new = []\n",
    "fig,ax = plt.subplots(1,3,figsize=(20,10))\n",
    "for i in range(2):\n",
    "    if np.sum(base_8[:,i]!=0):\n",
    "        j+=1\n",
    "        print(i)\n",
    "        list_new.append(i)\n",
    "        ax[i].title.set_text(str(i))\n",
    "        ax[i].imshow(base_8[:,i].reshape(256,256))\n",
    "print('total activated channels: '+str(j))\n",
    "ax[2].title.set_text('mean of the sample domain')\n",
    "ax[2].imshow(np.mean(data_r_cut.reshape(256,256,-1),axis=2))\n",
    "fig.savefig('./keras_figures/unknown.png')\n",
    "\n",
    "fig,ax = plt.subplots(2,2,figsize = (10,10))\n",
    "ax[0][0].imshow(rotation_[:,0].reshape(256,256))\n",
    "ax[0][1].imshow(rotation_[:,1].reshape(256,256))\n",
    "ax[1][0].hist(rotation_[:,0].reshape(-1),200)\n",
    "ax[1][1].hist(rotation_[:,1].reshape(-1),200)\n",
    "fig.savefig('./keras_figures/rotation.png')"
   ]
  },
  {
   "cell_type": "code",
   "execution_count": null,
   "id": "08ebdb65",
   "metadata": {
    "scrolled": true
   },
   "outputs": [],
   "source": [
    "sample_base = base_8[:,1].reshape(256,256)\n",
    "\n",
    "scale_0 = np.multiply(sample_base.reshape(256,256),scale_[:,0].reshape(256,256))\n",
    "scale_1 = np.multiply(sample_base.reshape(256,256),scale_[:,3].reshape(256,256))"
   ]
  },
  {
   "cell_type": "code",
   "execution_count": null,
   "id": "0d6b9652",
   "metadata": {
    "scrolled": true
   },
   "outputs": [],
   "source": [
    "fig,ax = plt.subplots(2,2,figsize = (10,10))\n",
    "clim0 = [1.14,1.19]\n",
    "clim1 = [1.1,1.17]\n",
    "ax[0][0].imshow(scale_0,clim=clim0)\n",
    "ax[0][1].imshow(scale_1,clim=clim1)\n",
    "ax[1][0].hist(scale_0.reshape(-1),200,range=clim0)\n",
    "ax[1][1].hist(scale_1.reshape(-1),200,range=clim1)\n",
    "fig.savefig('./keras_figures/scale.png')\n",
    "\n",
    "\n",
    "right_tri = np.sqrt(scale_0**2+scale_1**2).reshape(256,256)\n",
    "np.save('./keras_figures/right_triangle_mlp_average_pool_12b.npy', right_tri)\n",
    "fig,ax = plt.subplots(1,2,figsize=(20,10))\n",
    "clim=[1.59,1.65]\n",
    "ax[0].imshow(right_tri,clim=clim)\n",
    "ax[1].hist(right_tri.reshape(-1),200,range=clim)\n",
    "fig.savefig('./keras_figures/right_triangle.png')"
   ]
  },
  {
   "cell_type": "markdown",
   "id": "c532b218",
   "metadata": {},
   "source": [
    "## Now Test HLS Model"
   ]
  },
  {
   "cell_type": "code",
   "execution_count": null,
   "id": "e1487b35",
   "metadata": {
    "scrolled": true
   },
   "outputs": [],
   "source": [
    "def print_dict(d, indent=0):\n",
    "    align = 20\n",
    "    for key, value in d.items():\n",
    "        print('  ' * indent + str(key), end='')\n",
    "        if isinstance(value, dict):\n",
    "            print()\n",
    "            print_dict(value, indent+1)\n",
    "        else:\n",
    "            print(':' + ' ' * (20 - len(key) - 2 * indent) + str(value))"
   ]
  },
  {
   "cell_type": "code",
   "execution_count": null,
   "id": "4d5472ac",
   "metadata": {
    "scrolled": true
   },
   "outputs": [],
   "source": [
    "config = hls4ml.utils.config_from_keras_model(MODEL, granularity='name')\n",
    "REUSE_FACTOR = 16\n",
    "config['Model']['ReuseFactor'] = REUSE_FACTOR\n",
    "# config['SkipOptimizers'] = ['reshape_stream']\n",
    "config['SkipOptimizers']= ['relu_merge']\n",
    "config['Model']['Strategy'] = 'Resource'\n",
    "config['Model']['Precision'] = 'ap_fixed<16,6>'\n",
    "config['OutputDir'] = '.'\n",
    "#config['Model']['Compression'] = 'True'\n",
    "\n",
    "\n",
    "for layer in config['LayerName'].keys():\n",
    "    config['LayerName'][layer]['Trace'] = True\n",
    "    config['LayerName'][layer]['ReuseFactor'] = REUSE_FACTOR\n",
    "\n",
    "config['LayerName']['q_dense']['Precision']['weight'] = 'ap_fixed<12,4>'\n",
    "config['LayerName']['q_dense']['Precision']['bias'] = 'ap_fixed<12,4>'\n",
    "config['LayerName']['q_dense_1']['Precision']['weight'] = 'ap_fixed<12,4>'\n",
    "config['LayerName']['q_dense_1']['Precision']['bias'] = 'ap_fixed<12,4>'\n",
    "config['LayerName']['q_dense_2']['Precision']['weight'] = 'ap_fixed<12,4>'\n",
    "config['LayerName']['q_dense_2']['Precision']['bias'] = 'ap_fixed<12,4>'\n",
    "config['LayerName']['q_dense_3']['Precision']['weight'] = 'ap_fixed<12,4>'\n",
    "config['LayerName']['q_dense_3']['Precision']['bias'] = 'ap_fixed<12,4>'\n",
    "\n",
    "\n",
    "\n",
    "# config['LayerName']['q_activation']['Precision'] = 'ap_fixed<16,8,AP_RND,AP_SAT>'\n",
    "\n",
    "\n",
    "# config['LayerName']['batch_normalization']['Precision'] = 'ap_fixed<16,8>'\n",
    "# config['LayerName']['batch_normalization_1']['Precision'] = 'ap_fixed<16,8>'\n",
    "# config['LayerName']['batch_normalization_2']['Precision'] = 'ap_fixed<16,8>'\n",
    "\n",
    "\n",
    "\n",
    "# config['LayerName']['batch_normalization']['Precision']['scale'] = 'ap_fixed<16,8>'\n",
    "# config['LayerName']['batch_normalization']['Precision']['bias'] = 'ap_fixed<16,8,AP_RND,AP_SAT>'"
   ]
  },
  {
   "cell_type": "code",
   "execution_count": null,
   "id": "82411401",
   "metadata": {
    "scrolled": true
   },
   "outputs": [],
   "source": [
    "print_dict(config)\n",
    "HLS_MODEL = hls4ml.converters.convert_from_keras_model(MODEL,\n",
    "                                                    hls_config=config,\n",
    "                                                    output_dir='./my-hls-test',\n",
    "                                                    part='xcu200-fsgd2104-2-e',\n",
    "                                                    io_type='io_stream')\n",
    "HLS_MODEL.compile()"
   ]
  },
  {
   "cell_type": "code",
   "execution_count": null,
   "id": "d7ff10ff",
   "metadata": {
    "scrolled": false
   },
   "outputs": [],
   "source": [
    "#same as before\n",
    "img = np.load('./02_scan_x256_y256_raw.npy')\n",
    "img = np.transpose(img,(2,3,0,1))\n",
    "data_r = np.copy(img)\n",
    "data_r[data_r>1e3]=1e3\n",
    "min_ = np.min(data_r)\n",
    "max_ = np.max(data_r)\n",
    "\n",
    "data_r = 1.0*(data_r-min_)/(max_-min_)\n",
    "\n",
    "data_r = data_r.reshape(-1,1,124,124)\n",
    "data_r_cut = data_r[:,:,2:122,2:122]\n",
    "data_r_cut = data_r_cut.reshape(256,256,120,120)\n",
    "X = data_r_cut.reshape(-1, 120,120)\n",
    "\n",
    "#Does something, tbd\n",
    "# generate outputs/targets\n",
    "dataset_h5 = h5py.File('./unbinned_results.h5','r+')\n",
    "rots = np.array(dataset_h5['rotation'])\n",
    "scal = np.array(dataset_h5['scale'])\n",
    "y = np.concatenate((rots, scal), axis=1)\n",
    "sc = StandardScaler()\n",
    "_ = sc.fit(y)\n",
    "base_8 = np.load('./base_8.npy', allow_pickle=1)\n",
    "\n",
    "predictions = HLS_MODEL.predict(np.ascontiguousarray(X))\n",
    "predictions = sc.inverse_transform(predictions)\n",
    "\n",
    "print('hls pred: ', predictions[1000])\n",
    "print('actual:   ', y[1000])\n",
    "\n",
    "rotation_, scale_ = predictions[:, 0:2], predictions[:, 2:]\n",
    "\n",
    "mse = np.mean((y - predictions)**2)\n",
    "print('hls model MSE on full dataset: ', mse)\n",
    "\n",
    "#base=2,loss=0.024\n",
    "j=0\n",
    "list_new = []\n",
    "fig,ax = plt.subplots(1,3,figsize=(20,10))\n",
    "for i in range(2):\n",
    "    if np.sum(base_8[:,i]!=0):\n",
    "        j+=1\n",
    "        print(i)\n",
    "        list_new.append(i)\n",
    "        ax[i].title.set_text(str(i))\n",
    "        ax[i].imshow(base_8[:,i].reshape(256,256))\n",
    "print('total activated channels: '+str(j))\n",
    "ax[2].title.set_text('mean of the sample domain')\n",
    "ax[2].imshow(np.mean(data_r_cut.reshape(256,256,-1),axis=2))\n",
    "fig.savefig('./hls_figures/unknown.png')\n",
    "\n",
    "fig,ax = plt.subplots(2,2,figsize = (10,10))\n",
    "ax[0][0].imshow(rotation_[:,0].reshape(256,256))\n",
    "ax[0][1].imshow(rotation_[:,1].reshape(256,256))\n",
    "ax[1][0].hist(rotation_[:,0].reshape(-1),200)\n",
    "ax[1][1].hist(rotation_[:,1].reshape(-1),200)\n",
    "fig.savefig('./hls_figures/rotation.png')\n",
    "\n",
    "sample_base = base_8[:,1].reshape(256,256)\n",
    "\n",
    "scale_0 = np.multiply(sample_base.reshape(256,256),scale_[:,0].reshape(256,256))\n",
    "scale_1 = np.multiply(sample_base.reshape(256,256),scale_[:,3].reshape(256,256))\n",
    "\n",
    "fig,ax = plt.subplots(2,2,figsize = (10,10))\n",
    "clim0 = [1.14,1.19]\n",
    "clim1 = [1.1,1.17]\n",
    "ax[0][0].imshow(scale_0,clim=clim0)\n",
    "ax[0][1].imshow(scale_1,clim=clim1)\n",
    "ax[1][0].hist(scale_0.reshape(-1),200,range=clim0)\n",
    "ax[1][1].hist(scale_1.reshape(-1),200,range=clim1)\n",
    "fig.savefig('./hls_figures/scale.png')\n",
    "\n",
    "\n",
    "right_tri = np.sqrt(scale_0**2+scale_1**2).reshape(256,256)\n",
    "np.save('./hls_figures/right_triangle_mlp_average_pool_12b.npy', right_tri)\n",
    "fig,ax = plt.subplots(1,2,figsize=(20,10))\n",
    "clim=[1.59,1.65]\n",
    "ax[0].imshow(right_tri,clim=clim)\n",
    "ax[1].hist(right_tri.reshape(-1),200,range=clim)\n",
    "fig.savefig('./hls_figures/right_triangle.png')"
   ]
  },
  {
   "cell_type": "code",
   "execution_count": null,
   "id": "51b97bb2",
   "metadata": {
    "scrolled": true
   },
   "outputs": [],
   "source": [
    "# print(np.amin(np.ascontiguousarray(X)))"
   ]
  },
  {
   "cell_type": "markdown",
   "id": "8294aa7f",
   "metadata": {},
   "source": [
    "## Profiling to Compare Layer Outputs"
   ]
  },
  {
   "cell_type": "code",
   "execution_count": null,
   "id": "6d42afd0",
   "metadata": {
    "scrolled": true
   },
   "outputs": [],
   "source": [
    "os.environ['CUDA_VISIBLE_DEVICES'] = '0'"
   ]
  },
  {
   "cell_type": "code",
   "execution_count": null,
   "id": "698f180c",
   "metadata": {
    "scrolled": true
   },
   "outputs": [],
   "source": [
    "from hls4ml.model.profiling import numerical\n",
    "from hls4ml.converters import keras_to_hls\n",
    "import matplotlib.pyplot as plt\n",
    "import yaml"
   ]
  },
  {
   "cell_type": "code",
   "execution_count": null,
   "id": "621542dd",
   "metadata": {
    "scrolled": true
   },
   "outputs": [],
   "source": [
    "X_test = np.ascontiguousarray(X)"
   ]
  },
  {
   "cell_type": "code",
   "execution_count": null,
   "id": "d7577970",
   "metadata": {
    "scrolled": false
   },
   "outputs": [],
   "source": [
    "%matplotlib inline\n",
    "hls4ml.model.profiling.numerical(model=MODEL, hls_model = HLS_MODEL, X=X_test[0:100])"
   ]
  },
  {
   "cell_type": "code",
   "execution_count": null,
   "id": "f08c30fd",
   "metadata": {
    "scrolled": true
   },
   "outputs": [],
   "source": [
    "## Trace Model\n",
    "keras_trace = hls4ml.model.profiling.get_ymodel_keras(MODEL, X_test[0:100])"
   ]
  },
  {
   "cell_type": "code",
   "execution_count": null,
   "id": "0984128e",
   "metadata": {
    "scrolled": true
   },
   "outputs": [],
   "source": [
    "y_hls, hls4ml_trace = HLS_MODEL.trace(X_test[0:100])"
   ]
  },
  {
   "cell_type": "code",
   "execution_count": null,
   "id": "d16f0d05",
   "metadata": {
    "scrolled": false
   },
   "outputs": [],
   "source": [
    "for layer in hls4ml_trace.keys():\n",
    "            plt.figure()\n",
    "            klayer = layer\n",
    "            if '_alpha' in layer:\n",
    "                klayer = layer.replace('_alpha', '')\n",
    "            plt.scatter(hls4ml_trace[layer].flatten(), keras_trace[klayer].flatten(), s=0.2)\n",
    "            min_x = min(np.amin(hls4ml_trace[layer]), np.amin(keras_trace[klayer]))\n",
    "            max_x = max(np.amax(hls4ml_trace[layer]), np.amax(keras_trace[klayer]))\n",
    "            plt.plot([min_x, max_x], [min_x, max_x], c='gray')\n",
    "            plt.xlabel('hls4ml {}'.format(layer))\n",
    "            plt.ylabel('QKeras {}'.format(klayer))\n",
    "            plt.savefig(os.path.join(config['OutputDir'], 'profiling_{}.png'.format(layer)), dpi=300)"
   ]
  },
  {
   "cell_type": "markdown",
   "id": "b220eb3f",
   "metadata": {},
   "source": [
    "## Build Model"
   ]
  },
  {
   "cell_type": "code",
   "execution_count": null,
   "id": "76624cff",
   "metadata": {
    "scrolled": true
   },
   "outputs": [],
   "source": [
    "# os.environ['PATH'] = '/home/ferroelectric/Xilinx_2020/Vivado/2020.1/bin:' + os.environ['PATH']\n",
    "# os.environ['PATH'] = '/home/ferroelectric/Xilinx_2020/Vitis/2020.1/bin:' + os.environ['PATH']"
   ]
  },
  {
   "cell_type": "code",
   "execution_count": null,
   "id": "644ce968",
   "metadata": {
    "scrolled": true
   },
   "outputs": [],
   "source": [
    "# HLS_MODEL.build(csim=False,synth=True, vsynth=True, export=True)"
   ]
  },
  {
   "cell_type": "code",
   "execution_count": null,
   "id": "d8002cb4",
   "metadata": {
    "scrolled": true
   },
   "outputs": [],
   "source": [
    "# hls4ml.report.read_vivado_report('./my-hls-test')"
   ]
  }
 ],
 "metadata": {
  "kernelspec": {
   "display_name": "4d_tem_1",
   "language": "python",
   "name": "4d_tem_1"
  },
  "language_info": {
   "codemirror_mode": {
    "name": "ipython",
    "version": 3
   },
   "file_extension": ".py",
   "mimetype": "text/x-python",
   "name": "python",
   "nbconvert_exporter": "python",
   "pygments_lexer": "ipython3",
   "version": "3.8.13"
  }
 },
 "nbformat": 4,
 "nbformat_minor": 5
}
